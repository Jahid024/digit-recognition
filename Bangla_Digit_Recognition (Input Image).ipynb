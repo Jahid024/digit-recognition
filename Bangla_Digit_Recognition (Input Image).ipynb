{
 "cells": [
  {
   "cell_type": "code",
   "execution_count": null,
   "id": "2f38e147",
   "metadata": {},
   "outputs": [],
   "source": []
  },
  {
   "cell_type": "markdown",
   "id": "51b30e89",
   "metadata": {},
   "source": [
    "## First Part"
   ]
  },
  {
   "cell_type": "code",
   "execution_count": 1,
   "id": "10cc0149",
   "metadata": {},
   "outputs": [
    {
     "name": "stdout",
     "output_type": "stream",
     "text": [
      "Enter the name of the image file (with extension): One.png\n",
      "Image_Path: Bangla_Digits\\One.png\n"
     ]
    }
   ],
   "source": [
    "import cv2\n",
    "import os\n",
    "\n",
    "# Path to the folder containing the images\n",
    "folder_path = \"Bangla_Digits\"\n",
    "\n",
    "# Input the name of the image file\n",
    "image_file = input(\"Enter the name of the image file (with extension): \")\n",
    "\n",
    "# Construct the full path to the image\n",
    "image_path = os.path.join(folder_path, image_file)\n",
    "\n",
    "\n",
    "# Check if the file exists\n",
    "if os.path.exists(image_path):\n",
    "    # Read the image using OpenCV\n",
    "    image = cv2.imread(image_path)\n",
    "    \n",
    "    # Check if the image was successfully loaded\n",
    "    if image is not None:\n",
    "        # Display the image\n",
    "        cv2.imshow(\"Image\", image)\n",
    "        \n",
    "        # Wait for a key press to close the image window\n",
    "        cv2.waitKey(0)\n",
    "        \n",
    "        # Close the image window\n",
    "        cv2.destroyAllWindows()\n",
    "    else:\n",
    "        print(f\"Unable to load image: {image_file}\")\n",
    "else:\n",
    "    print(f\"Image file not found: {image_file}\")\n",
    "\n",
    "print(\"Image_Path:\",image_path)"
   ]
  },
  {
   "cell_type": "code",
   "execution_count": 2,
   "id": "3b0a2906",
   "metadata": {
    "scrolled": false
   },
   "outputs": [
    {
     "name": "stdout",
     "output_type": "stream",
     "text": [
      "Enter the path to the image file: Bangla_Digits\\One.png\n",
      "Detected image file: One.png\n"
     ]
    }
   ],
   "source": [
    "import cv2\n",
    "import os\n",
    "\n",
    "# Path to the folder containing the images\n",
    "folder_path = \"Bangla_Digits\"\n",
    "\n",
    "# Input the name of the image file\n",
    "image_path = input(\"Enter the path to the image file: \")\n",
    "\n",
    "# Read the image using OpenCV\n",
    "image = cv2.imread(image_path)\n",
    "\n",
    "# Check if the image was successfully loaded\n",
    "if image is not None:\n",
    "    # Display the image\n",
    "    cv2.imshow(\"Image\", image)\n",
    "    \n",
    "    # Wait for a key press\n",
    "    cv2.waitKey(0)\n",
    "    \n",
    "    # Close the image window\n",
    "    cv2.destroyAllWindows()\n",
    "    \n",
    "    # Get the filename from the image path\n",
    "    image_filename = os.path.basename(image_path)\n",
    "    \n",
    "    # Print the filename\n",
    "    print(\"Detected image file:\", image_filename)\n",
    "else:\n",
    "    print(\"Unable to load image.\")\n"
   ]
  },
  {
   "cell_type": "markdown",
   "id": "5e9b6003",
   "metadata": {},
   "source": [
    "## Second Part"
   ]
  },
  {
   "cell_type": "markdown",
   "id": "dc0b179f",
   "metadata": {},
   "source": [
    "## Calculation The Pixel Values"
   ]
  },
  {
   "cell_type": "code",
   "execution_count": 6,
   "id": "c6c5fb84",
   "metadata": {},
   "outputs": [
    {
     "name": "stdout",
     "output_type": "stream",
     "text": [
      "Image: Eight.png\n",
      "Sum of pixel values in quadrant 1: 2755\n",
      "Sum of pixel values in quadrant 2: 1527\n",
      "Sum of pixel values in quadrant 3: 2249\n",
      "Sum of pixel values in quadrant 4: 1848\n",
      "Total sum of pixel values in the entire image: 8379\n",
      "\n",
      "Image: Five.png\n",
      "Sum of pixel values in quadrant 1: 1617\n",
      "Sum of pixel values in quadrant 2: 2261\n",
      "Sum of pixel values in quadrant 3: 1485\n",
      "Sum of pixel values in quadrant 4: 1673\n",
      "Total sum of pixel values in the entire image: 7036\n",
      "\n",
      "Image: Four.png\n",
      "Sum of pixel values in quadrant 1: 2070\n",
      "Sum of pixel values in quadrant 2: 2027\n",
      "Sum of pixel values in quadrant 3: 1667\n",
      "Sum of pixel values in quadrant 4: 1757\n",
      "Total sum of pixel values in the entire image: 7521\n",
      "\n",
      "Image: Nine.png\n",
      "Sum of pixel values in quadrant 1: 2226\n",
      "Sum of pixel values in quadrant 2: 1027\n",
      "Sum of pixel values in quadrant 3: 2225\n",
      "Sum of pixel values in quadrant 4: 3190\n",
      "Total sum of pixel values in the entire image: 8668\n",
      "\n",
      "Image: One.png\n",
      "Sum of pixel values in quadrant 1: 1338\n",
      "Sum of pixel values in quadrant 2: 565\n",
      "Sum of pixel values in quadrant 3: 817\n",
      "Sum of pixel values in quadrant 4: 778\n",
      "Total sum of pixel values in the entire image: 3498\n",
      "\n",
      "Image: Seven.png\n",
      "Sum of pixel values in quadrant 1: 2051\n",
      "Sum of pixel values in quadrant 2: 1272\n",
      "Sum of pixel values in quadrant 3: 115\n",
      "Sum of pixel values in quadrant 4: 1737\n",
      "Total sum of pixel values in the entire image: 5175\n",
      "\n",
      "Image: Six.png\n",
      "Sum of pixel values in quadrant 1: 2251\n",
      "Sum of pixel values in quadrant 2: 1254\n",
      "Sum of pixel values in quadrant 3: 2058\n",
      "Sum of pixel values in quadrant 4: 2163\n",
      "Total sum of pixel values in the entire image: 7726\n",
      "\n",
      "Image: Three.png\n",
      "Sum of pixel values in quadrant 1: 1203\n",
      "Sum of pixel values in quadrant 2: 2187\n",
      "Sum of pixel values in quadrant 3: 1713\n",
      "Sum of pixel values in quadrant 4: 2234\n",
      "Total sum of pixel values in the entire image: 7337\n",
      "\n",
      "Image: Two.png\n",
      "Sum of pixel values in quadrant 1: 1284\n",
      "Sum of pixel values in quadrant 2: 1089\n",
      "Sum of pixel values in quadrant 3: 2259\n",
      "Sum of pixel values in quadrant 4: 2054\n",
      "Total sum of pixel values in the entire image: 6686\n",
      "\n",
      "Image: Zero.png\n",
      "Sum of pixel values in quadrant 1: 3781\n",
      "Sum of pixel values in quadrant 2: 3013\n",
      "Sum of pixel values in quadrant 3: 3124\n",
      "Sum of pixel values in quadrant 4: 4125\n",
      "Total sum of pixel values in the entire image: 14043\n",
      "\n"
     ]
    }
   ],
   "source": [
    "import os\n",
    "import numpy as np\n",
    "import cv2\n",
    "\n",
    "def calculate_quadrant_sums(folder_path):\n",
    "    # Initialize dictionaries to store results\n",
    "    quadrant_sums_per_image = {}\n",
    "    total_sums_per_image = {}\n",
    "\n",
    "    # Iterate over all files in the folder\n",
    "    for filename in os.listdir(folder_path):\n",
    "        if filename.endswith(\".png\"):\n",
    "            # Load the image\n",
    "            image_path = os.path.join(folder_path, filename)\n",
    "            Gray_image = cv2.imread(image_path, 0)\n",
    "\n",
    "            # Resize the image to (18, 20)\n",
    "            resized_image = cv2.resize(Gray_image, (18, 20))\n",
    "\n",
    "            # Invert the image\n",
    "            inverted_image = 255 - resized_image\n",
    "\n",
    "            # Calculate the dimensions of each quadrant\n",
    "            height, width = inverted_image.shape\n",
    "            half_height = height // 2\n",
    "            half_width = width // 2\n",
    "\n",
    "            # Calculate the sum of pixel values for each quadrant\n",
    "            quadrant1_sum = np.sum(inverted_image[:half_height, :half_width])\n",
    "            quadrant2_sum = np.sum(inverted_image[:half_height, half_width:])\n",
    "            quadrant3_sum = np.sum(inverted_image[half_height:, :half_width])\n",
    "            quadrant4_sum = np.sum(inverted_image[half_height:, half_width:])\n",
    "            total_sum = np.sum(inverted_image)\n",
    "\n",
    "            # Store results in dictionaries\n",
    "            quadrant_sums_per_image[filename] = (quadrant1_sum, quadrant2_sum, quadrant3_sum, quadrant4_sum)\n",
    "            total_sums_per_image[filename] = total_sum\n",
    "\n",
    "    return quadrant_sums_per_image, total_sums_per_image\n",
    "\n",
    "# Folder path containing images\n",
    "folder_path = \"Bangla_Digits\"\n",
    "\n",
    "# Calculate sums\n",
    "quadrant_sums_per_image, total_sums_per_image = calculate_quadrant_sums(folder_path)\n",
    "\n",
    "# Print results for each image\n",
    "for image_name, quadrant_sum in quadrant_sums_per_image.items():\n",
    "    print(f\"Image: {image_name}\")\n",
    "    print(\"Sum of pixel values in quadrant 1:\", quadrant_sum[0])\n",
    "    print(\"Sum of pixel values in quadrant 2:\", quadrant_sum[1])\n",
    "    print(\"Sum of pixel values in quadrant 3:\", quadrant_sum[2])\n",
    "    print(\"Sum of pixel values in quadrant 4:\", quadrant_sum[3])\n",
    "    print(\"Total sum of pixel values in the entire image:\", total_sums_per_image[image_name])\n",
    "    print()\n"
   ]
  },
  {
   "cell_type": "code",
   "execution_count": null,
   "id": "554c46c7",
   "metadata": {},
   "outputs": [],
   "source": []
  },
  {
   "cell_type": "code",
   "execution_count": null,
   "id": "df470ced",
   "metadata": {},
   "outputs": [],
   "source": []
  }
 ],
 "metadata": {
  "kernelspec": {
   "display_name": "Python 3 (ipykernel)",
   "language": "python",
   "name": "python3"
  },
  "language_info": {
   "codemirror_mode": {
    "name": "ipython",
    "version": 3
   },
   "file_extension": ".py",
   "mimetype": "text/x-python",
   "name": "python",
   "nbconvert_exporter": "python",
   "pygments_lexer": "ipython3",
   "version": "3.9.12"
  }
 },
 "nbformat": 4,
 "nbformat_minor": 5
}
